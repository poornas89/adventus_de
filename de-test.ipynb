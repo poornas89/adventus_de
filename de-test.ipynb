{
 "cells": [
  {
   "cell_type": "code",
   "execution_count": 1,
   "id": "47ef7a96",
   "metadata": {},
   "outputs": [],
   "source": [
    "import os\n",
    "creadentials_path = \"C:/Users/poornas/Downloads/private_key.json\"\n",
    "os.environ['GOOGLE_APPLICATION_CREDENTIALS'] = creadentials_path"
   ]
  },
  {
   "cell_type": "code",
   "execution_count": 2,
   "id": "dfeabeb6",
   "metadata": {},
   "outputs": [],
   "source": [
    "from google.cloud import bigquery"
   ]
  },
  {
   "cell_type": "code",
   "execution_count": 3,
   "id": "71b634b7",
   "metadata": {},
   "outputs": [],
   "source": [
    "client = bigquery.Client()\n",
    "project = client.project\n",
    "dataset_ref = bigquery.DatasetReference(project, 'adventus')\n",
    "table_id = \"adventus-338217.adventus.customers\""
   ]
  },
  {
   "cell_type": "code",
   "execution_count": 4,
   "id": "f59ac3e6",
   "metadata": {},
   "outputs": [
    {
     "name": "stdout",
     "output_type": "stream",
     "text": [
      "Created table adventus-338217:adventus.customers\n"
     ]
    }
   ],
   "source": [
    "# this code create the table manually\n",
    "schema = [\n",
    "    bigquery.SchemaField(\"_id\", \"STRING\", mode=\"NULLABLE\"),\n",
    "    bigquery.SchemaField(\"index\", \"INTEGER\", mode=\"NULLABLE\"),\n",
    "    bigquery.SchemaField(\"guid\", \"STRING\", mode=\"NULLABLE\"),\n",
    "    bigquery.SchemaField(\"isActive\", \"BOOL\", mode=\"NULLABLE\"),\n",
    "    bigquery.SchemaField(\"age\", \"INTEGER\", mode=\"NULLABLE\"),\n",
    "    bigquery.SchemaField(\"eyeColor\", \"STRING\", mode=\"NULLABLE\"),\n",
    "    bigquery.SchemaField(\"name\", \"STRING\", mode=\"NULLABLE\"),\n",
    "    bigquery.SchemaField(\"gender\", \"STRING\", mode=\"NULLABLE\"),\n",
    "    bigquery.SchemaField(\"company\", \"STRING\", mode=\"NULLABLE\"),\n",
    "    bigquery.SchemaField(\"email\", \"STRING\", mode=\"NULLABLE\"),\n",
    "    bigquery.SchemaField(\"phone\", \"STRING\", mode=\"NULLABLE\"),\n",
    "    bigquery.SchemaField(\"address\", \"STRING\", mode=\"NULLABLE\"),\n",
    "    bigquery.SchemaField(\"about\", \"STRING\", mode=\"NULLABLE\"),\n",
    "    bigquery.SchemaField(\"registered\", \"TIMESTAMP\", mode=\"NULLABLE\"),\n",
    "    bigquery.SchemaField(\"latitude\", \"FLOAT64\", mode=\"NULLABLE\"),\n",
    "    bigquery.SchemaField(\"longitude\", \"FLOAT64\", mode=\"NULLABLE\"),\n",
    "    bigquery.SchemaField(\"tags\", \"STRING\", mode=\"REPEATED\"),\n",
    "    bigquery.SchemaField(\n",
    "        \"friends\",\n",
    "        \"RECORD\",\n",
    "        mode=\"REPEATED\",\n",
    "        fields=[\n",
    "            bigquery.SchemaField(\"id\", \"INTEGER\", mode=\"NULLABLE\"),\n",
    "            bigquery.SchemaField(\"name\", \"STRING\", mode=\"NULLABLE\"),\n",
    "        ],\n",
    "    ),\n",
    "    bigquery.SchemaField(\"greeting\", \"STRING\", mode=\"NULLABLE\"),\n",
    "    bigquery.SchemaField(\"favoriteFruit\", \"STRING\", mode=\"NULLABLE\"),\n",
    "]\n",
    "table_ref = dataset_ref.table(\"customers\")\n",
    "table = bigquery.Table(table_ref, schema=schema)\n",
    "table = client.create_table(table)  # API request\n",
    "\n",
    "print(\"Created table {}\".format(table.full_table_id))"
   ]
  },
  {
   "cell_type": "code",
   "execution_count": 5,
   "id": "f6658442",
   "metadata": {},
   "outputs": [
    {
     "name": "stdout",
     "output_type": "stream",
     "text": [
      "Loaded 4 rows.\n"
     ]
    }
   ],
   "source": [
    "#Adding customers_1.json data into previously created table\n",
    "job_config = bigquery.LoadJobConfig(\n",
    "    schema=schema,\n",
    "    source_format=bigquery.SourceFormat.NEWLINE_DELIMITED_JSON,\n",
    ")\n",
    "uri = \"https://storage.cloud.google.com/bucket_advantus/customers_1.json\"\n",
    "\n",
    "load_job = client.load_table_from_uri(\n",
    "    uri,\n",
    "    table_id,\n",
    "    location=\"US\",  \n",
    "    job_config=job_config,\n",
    ")  # Make an API request.\n",
    "\n",
    "load_job.result()  # Waits for the job to complete.\n",
    "\n",
    "destination_table = client.get_table(table_id)\n",
    "print(\"Loaded {} rows.\".format(destination_table.num_rows))"
   ]
  },
  {
   "cell_type": "code",
   "execution_count": 6,
   "id": "5dae6c36",
   "metadata": {},
   "outputs": [
    {
     "name": "stdout",
     "output_type": "stream",
     "text": [
      "Loaded 8 rows.\n"
     ]
    }
   ],
   "source": [
    "#adding customers_2.json data into the table with schema changes\n",
    "job_config = bigquery.LoadJobConfig(\n",
    "    autodetect=True, source_format=bigquery.SourceFormat.NEWLINE_DELIMITED_JSON\n",
    ")\n",
    "job_config.write_disposition = bigquery.WriteDisposition.WRITE_APPEND\n",
    "job_config.schema_update_options = [\n",
    "    bigquery.SchemaUpdateOption.ALLOW_FIELD_ADDITION\n",
    "]\n",
    "uri = \"https://storage.cloud.google.com/bucket_advantus/customers_2.json\"\n",
    "load_job = client.load_table_from_uri(\n",
    "    uri, table_id, job_config=job_config\n",
    ")  # Make an API request.\n",
    "load_job.result()  # Waits for the job to complete.\n",
    "destination_table = client.get_table(table_id)\n",
    "print(\"Loaded {} rows.\".format(destination_table.num_rows))"
   ]
  },
  {
   "cell_type": "code",
   "execution_count": 9,
   "id": "d92a0141",
   "metadata": {},
   "outputs": [
    {
     "name": "stdout",
     "output_type": "stream",
     "text": [
      "New rows have been added.\n"
     ]
    }
   ],
   "source": [
    "\"\"\" \n",
    "Streaming insert the customers_3.json file....\n",
    "Had to do two changes. \n",
    " 1) Set ignore_unknown_values to Ture. So, this will ignore new columns which available in steaming dataset. \n",
    " 2) The column named “Balance” automatically converted to float when loading the second file. But before loading the 3rd file I had to remove the \"$\" sign and the comma manually from that column. \n",
    "\n",
    " \"\"\" \n",
    "\n",
    "rows_to_insert = [\n",
    "    {\"_id\":\"61b0d935fbdfc2400db7ca6d\",\"index\":0,\"guid\":\"3d42d8df-128f-431e-81c9-02e521162af1\",\"isActive\":\"true\",\"balance\":\"2132.94\",\"picture\":\"http://placehold.it/32x32\",\"age\":38,\"eyeColor\":\"blue\",\"name\":\"Adrienne Anderson\",\"gender\":\"female\",\"company\":\"JIMBIES\",\"email\":\"adrienneanderson@jimbies.com\",\"phone\":\"+1 (996) 568-2799\",\"address\":\"878 Chester Avenue, Vicksburg, Puerto Rico, 9939\",\"about\":\"Dolore quis id enim qui eiusmod. Laborum nostrud enim do elit sunt enim. Aute labore enim duis tempor cillum nisi officia voluptate. Esse non qui consequat in laboris culpa cillum eu deserunt anim. Lorem nulla magna cillum reprehenderit sunt esse irure nisi.\\r\\n\",\"registered\":\"2016-10-21T07:00:38 -01:00\",\"latitude\":5.417943,\"longitude\":-18.414087,\"tags\":[\"est\",\"aliquip\",\"ea\",\"commodo\",\"dolore\",\"duis\",\"nulla\"],\"friends\":[{\"id\":0,\"name\":\"Bass Kirkland\"},{\"id\":1,\"name\":\"Hoffman Zimmerman\"},{\"id\":2,\"name\":\"Rosario Caldwell\"}],\"foes\":[{\"id\":0,\"name\":\"Kerr Howard\"},{\"id\":1,\"name\":\"Robles Albert\"},{\"id\":2,\"name\":\"Georgia Hurst\"}],\"greeting\":\"Hello, Adrienne Anderson! You have 6 unread messages.\",\"favoriteFruit\":\"banana\"},\n",
    "{\"_id\":\"61b0d93562d87ce4371a0f33\",\"index\":1,\"guid\":\"c7c2463c-6984-488f-8e2c-8a9ae6d430b4\",\"isActive\":\"false\",\"balance\":\"2509.43\",\"picture\":\"http://placehold.it/32x32\",\"age\":21,\"eyeColor\":\"green\",\"name\":\"Sampson Johnston\",\"gender\":\"male\",\"company\":\"ASIMILINE\",\"email\":\"sampsonjohnston@asimiline.com\",\"phone\":\"+1 (829) 564-2120\",\"address\":\"322 Dorchester Road, Dixie, Hawaii, 1738\",\"about\":\"Lorem exercitation eiusmod ullamco aliquip enim ex excepteur adipisicing. Consectetur dolore esse sunt ea velit dolor labore labore laborum velit. Ipsum occaecat ad dolore fugiat commodo amet consectetur culpa. Nostrud sunt officia aute labore commodo irure duis. Eu adipisicing est fugiat fugiat excepteur labore exercitation duis. Esse ad minim nulla veniam veniam dolore sunt laborum quis nulla magna cupidatat cillum in. Officia nulla ipsum eu adipisicing et proident ullamco labore amet nulla consectetur eiusmod pariatur.\\r\\n\",\"registered\":\"2017-11-03T07:12:14 -00:00\",\"latitude\":51.988023,\"longitude\":-14.471322,\"tags\":[\"mollit\",\"in\",\"cupidatat\",\"occaecat\",\"qui\",\"in\",\"labore\"],\"friends\":[{\"id\":0,\"name\":\"Pitts Wise\"},{\"id\":1,\"name\":\"French Hurley\"},{\"id\":2,\"name\":\"Rodriquez Chen\"}],\"foes\":[{\"id\":0,\"name\":\"Amanda Franco\"},{\"id\":1,\"name\":\"Henrietta Estes\"},{\"id\":2,\"name\":\"Hurst Hester\"}],\"greeting\":\"Hello, Sampson Johnston! You have 4 unread messages.\",\"favoriteFruit\":\"strawberry\"},\n",
    "{\"_id\":\"61b0d935314e426e37546087\",\"index\":2,\"guid\":\"c47cfc9c-98e7-43f9-9c64-9af97eec6bd7\",\"isActive\":\"true\",\"balance\":\"1673.53\",\"picture\":\"http://placehold.it/32x32\",\"age\":36,\"eyeColor\":\"blue\",\"name\":\"Grace Trujillo\",\"gender\":\"female\",\"company\":\"HYDROCOM\",\"email\":\"gracetrujillo@hydrocom.com\",\"phone\":\"+1 (978) 415-3940\",\"address\":\"338 Anthony Street, Garfield, Pennsylvania, 3456\",\"about\":\"Amet consectetur commodo qui occaecat amet aliquip eiusmod aliqua ullamco labore ad. Ut et veniam duis id. Ipsum anim mollit laboris dolore adipisicing enim non esse culpa commodo. Ipsum qui enim esse ex labore culpa id incididunt duis do sint magna pariatur. Nostrud elit aute tempor esse ut anim Lorem ex occaecat exercitation dolor. Ipsum quis velit sint consequat anim sit non Lorem enim ex velit sit incididunt.\\r\\n\",\"registered\":\"2019-08-13T01:42:34 -01:00\",\"latitude\":16.870529,\"longitude\":138.096246,\"tags\":[\"ullamco\",\"anim\",\"officia\",\"cillum\",\"sint\",\"quis\",\"reprehenderit\"],\"friends\":[{\"id\":0,\"name\":\"Nielsen Curtis\"},{\"id\":1,\"name\":\"Therese Chang\"},{\"id\":2,\"name\":\"Bernadine Callahan\"}],\"foes\":[{\"id\":0,\"name\":\"Battle Camacho\"},{\"id\":1,\"name\":\"Moreno Morton\"},{\"id\":2,\"name\":\"Morrow Hyde\"}],\"greeting\":\"Hello, Grace Trujillo! You have 6 unread messages.\",\"favoriteFruit\":\"strawberry\"},\n",
    "{\"_id\":\"61b0d9353bbf11740c5cfa05\",\"index\":3,\"guid\":\"850bb4ee-cd99-49b0-9e0e-af5cff5127c8\",\"isActive\":\"true\",\"balance\":\"1650.41\",\"picture\":\"http://placehold.it/32x32\",\"age\":26,\"eyeColor\":\"green\",\"name\":\"Shelly Little\",\"gender\":\"female\",\"company\":\"EVEREST\",\"email\":\"shellylittle@everest.com\",\"phone\":\"+1 (871) 515-2194\",\"address\":\"886 Moultrie Street, Dowling, Vermont, 6379\",\"about\":\"Sint eiusmod sint incididunt eu aute exercitation. Ipsum officia aliquip irure et veniam commodo reprehenderit laboris eiusmod voluptate cillum. Ipsum reprehenderit eu minim proident nostrud occaecat in sit nulla deserunt ipsum quis aute laborum. Minim esse incididunt aliquip aliquip irure ea magna anim duis occaecat. Ad excepteur laboris quis id commodo et velit excepteur sit velit nostrud tempor aute.\\r\\n\",\"registered\":\"2014-11-15T04:39:11 -00:00\",\"latitude\":-45.157174,\"longitude\":-106.304008,\"tags\":[\"sunt\",\"ipsum\",\"mollit\",\"exercitation\",\"minim\",\"occaecat\",\"nostrud\"],\"friends\":[{\"id\":0,\"name\":\"Jeannette Frederick\"},{\"id\":1,\"name\":\"Hollie Lamb\"},{\"id\":2,\"name\":\"Kirkland Olsen\"}],\"foes\":[{\"id\":0,\"name\":\"Garza Long\"},{\"id\":1,\"name\":\"Tamera Logan\"},{\"id\":2,\"name\":\"Kelli Fulton\"}],\"greeting\":\"Hello, Shelly Little! You have 5 unread messages.\",\"favoriteFruit\":\"strawberry\"},\n",
    "]\n",
    "\n",
    "errors = client.insert_rows_json(table_id, rows_to_insert, ignore_unknown_values=True)  # Make an API request.\n",
    "if errors == []:\n",
    "    print(\"New rows have been added.\")\n",
    "else:\n",
    "    print(\"Encountered errors while inserting rows: {}\".format(errors))"
   ]
  },
  {
   "cell_type": "code",
   "execution_count": null,
   "id": "f3827acc",
   "metadata": {},
   "outputs": [],
   "source": []
  }
 ],
 "metadata": {
  "kernelspec": {
   "display_name": "Python 3 (ipykernel)",
   "language": "python",
   "name": "python3"
  },
  "language_info": {
   "codemirror_mode": {
    "name": "ipython",
    "version": 3
   },
   "file_extension": ".py",
   "mimetype": "text/x-python",
   "name": "python",
   "nbconvert_exporter": "python",
   "pygments_lexer": "ipython3",
   "version": "3.8.12"
  }
 },
 "nbformat": 4,
 "nbformat_minor": 5
}
